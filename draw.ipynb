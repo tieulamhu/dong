{
 "cells": [
  {
   "cell_type": "code",
   "execution_count": null,
   "metadata": {},
   "outputs": [],
   "source": [
    "import matplotlib.pyplot as plt\n",
    "import seaborn as sns\n",
    "import numpy as np\n",
    "import pandas as pd\n",
    "from matplotlib.colors import ListedColormap"
   ]
  },
  {
   "cell_type": "code",
   "execution_count": null,
   "metadata": {},
   "outputs": [],
   "source": [
    "df = pd.read_csv('customer_features.csv')"
   ]
  },
  {
   "cell_type": "code",
   "execution_count": null,
   "metadata": {},
   "outputs": [],
   "source": [
    "df.columns"
   ]
  },
  {
   "cell_type": "code",
   "execution_count": null,
   "metadata": {},
   "outputs": [],
   "source": [
    "df_city = df.loc[(df['category2'] == 'CITY') & (df['choice'] == 1)]"
   ]
  },
  {
   "cell_type": "code",
   "execution_count": null,
   "metadata": {},
   "outputs": [],
   "source": [
    "df_city['n_mc_service_before_car']"
   ]
  },
  {
   "cell_type": "code",
   "execution_count": null,
   "metadata": {},
   "outputs": [],
   "source": [
    "df_service = pd.DataFrame()\n",
    "df_service['n_mc_service_before_car'] = df_city['n_mc_service_before_car']\n",
    "df_n_mc = pd.DataFrame()\n",
    "df_n_mc['n mc before car'] = df_city['n mc before car']\n",
    "df_price = pd.DataFrame()\n",
    "df_price['total mc price'] = df_city['total mc price']"
   ]
  },
  {
   "cell_type": "code",
   "execution_count": null,
   "metadata": {},
   "outputs": [],
   "source": [
    "df_service.sort_values(by=['n_mc_service_before_car'], inplace=True)\n",
    "df_service.reset_index(drop=True, inplace=True)\n",
    "df_service.reset_index(level=0, inplace=True)\n",
    "df_service"
   ]
  },
  {
   "cell_type": "code",
   "execution_count": null,
   "metadata": {},
   "outputs": [],
   "source": [
    "df_n_mc.sort_values(by=['n mc before car'], inplace=True)\n",
    "df_n_mc.reset_index(drop=True, inplace=True)\n",
    "df_n_mc.reset_index(level=0, inplace=True)\n",
    "df_n_mc"
   ]
  },
  {
   "cell_type": "code",
   "execution_count": null,
   "metadata": {},
   "outputs": [],
   "source": [
    "df_price = pd.DataFrame()\n",
    "df_price['total mc price'] = df_city['total mc price']\n",
    "df_price.sort_values(by=['total mc price'], inplace=True)\n",
    "df_price.reset_index(drop=True, inplace=True)\n",
    "df_price.reset_index(level=0, inplace=True)\n",
    "df_price"
   ]
  },
  {
   "cell_type": "code",
   "execution_count": null,
   "metadata": {},
   "outputs": [],
   "source": [
    "df_service['label']=df_service['n_mc_service_before_car'].value_counts()\n",
    "# df_service = df_service.loc[(df['label'] != 'NaN')]\n",
    "# df_service\n",
    "# df_service = df_service.loc[df['label'] != 'NaN']\n",
    "df_service.dropna(inplace=True)\n",
    "df_service"
   ]
  },
  {
   "cell_type": "code",
   "execution_count": null,
   "metadata": {},
   "outputs": [],
   "source": [
    "df_n_mc['label']=df_n_mc['n mc before car'].value_counts()\n",
    "# df_service = df_service.loc[(df['label'] != 'NaN')]\n",
    "# df_service\n",
    "# df_service = df_service.loc[df['label'] != 'NaN']\n",
    "df_n_mc.dropna(inplace=True)\n",
    "df_n_mc"
   ]
  },
  {
   "cell_type": "code",
   "execution_count": null,
   "metadata": {},
   "outputs": [],
   "source": [
    "df_service['percent'] = (df_service['label'] / df_service['label'].sum()) * 100\n",
    "df_service['cum_percent'] = (df_service.label.cumsum() / df_service.label.sum()) * 100\n",
    "df_service"
   ]
  },
  {
   "cell_type": "code",
   "execution_count": null,
   "metadata": {},
   "outputs": [],
   "source": [
    "df_n_mc['percent'] = (df_n_mc['label'] / df_n_mc['label'].sum()) * 100\n",
    "df_n_mc['cum_percent'] = (df_n_mc.label.cumsum() / df_n_mc.label.sum()) * 100\n",
    "df_n_mc"
   ]
  },
  {
   "cell_type": "code",
   "execution_count": null,
   "metadata": {},
   "outputs": [],
   "source": [
    "import pandas as pd\n",
    "import matplotlib.pyplot as plt\n",
    "import seaborn as sns\n",
    "# fig = plt.figure()\n",
    "# ax = df_service['label'].plot(alpha = .75, kind = 'bar')\n",
    "# ax2 = ax.twinx()\n",
    "# ax2.plot(ax.get_xticks(), df_service['cum_percent'].values, alpha = .75, color = 'r')\n",
    "\n",
    "fig, ax1 = plt.subplots(figsize=(16,6))\n",
    "ax1 = df_service['label'].plot(alpha = .75, kind = 'bar')\n",
    "ax2 = ax1.twinx()\n",
    "ax2.plot(ax1.get_xticks(), df_service['cum_percent'].values, alpha = .75, color = 'r')\n",
    "ax2.grid(False)\n",
    "plt.axhline(80, 0,100,color = 'r')\n",
    "plt.show()\n",
    "plt.savefig('n_service.png')"
   ]
  },
  {
   "cell_type": "code",
   "execution_count": null,
   "metadata": {},
   "outputs": [],
   "source": [
    "fig, ax1 = plt.subplots(figsize=(16,6))\n",
    "ax1 = df_n_mc['label'].plot(alpha = .75, kind = 'bar')\n",
    "ax2 = ax1.twinx()\n",
    "ax2.plot(ax1.get_xticks(), df_n_mc['cum_percent'].values, alpha = .75, color = 'r')\n",
    "ax2.grid(False)\n",
    "plt.axhline(80, 0,100,color = 'r')\n",
    "plt.show()\n",
    "plt.savefig('n_mc.png')"
   ]
  },
  {
   "cell_type": "code",
   "execution_count": null,
   "metadata": {},
   "outputs": [],
   "source": [
    "fig, ax1 = plt.subplots(figsize=(16,6))\n",
    "color = 'tab:green'\n",
    "ax1.set_title('Average Percipitation Percentage by Month', fontsize=16)\n",
    "ax1.set_xlabel('Month', fontsize=16)\n",
    "ax1.set_ylabel('Avg Temp', fontsize=16, color=color)\n",
    "ax2 = sns.barplot(x='index', y='label', data = df_service, palette='summer')\n",
    "ax1.tick_params(axis='y')\n",
    "ax2 = ax1.twinx()\n",
    "color = 'tab:red'\n",
    "ax2.set_ylabel('Avg Percipitation %', fontsize=16, color=color)\n",
    "ax2 = sns.lineplot(x='index', y='cum_percent', data = df_service, sort=False, color=color)\n",
    "ax2.tick_params(axis='y', color=color)\n",
    "plt.axhline(80, 0,100)\n",
    "plt.show()"
   ]
  },
  {
   "cell_type": "code",
   "execution_count": null,
   "metadata": {},
   "outputs": [],
   "source": [
    "df_price['total mc price'].hist()"
   ]
  },
  {
   "cell_type": "code",
   "execution_count": null,
   "metadata": {
    "jupyter": {
     "source_hidden": true
    }
   },
   "outputs": [],
   "source": [
    "fig, ax1 = plt.subplots(figsize=(16,6))\n",
    "bins= [*range(10000000, 250000000, 5000000)] \n",
    "# ax1 = df_n_mc['label'].plot(alpha = .75, kind = 'bar')\n",
    "ax1 = plt.hist(df_price['total mc price'], bins=bins, edgecolor=\"k\")\n",
    "# ax2 = ax1.twinx()\n",
    "# ax2.plot(ax1.get_xticks(), df_n_mc['cum_percent'].values, alpha = .75, color = 'r')\n",
    "\n",
    "\n",
    "plt.xticks(bins,rotation=90)\n",
    "plt.show()"
   ]
  },
  {
   "cell_type": "code",
   "execution_count": null,
   "metadata": {},
   "outputs": [],
   "source": [
    "df_price = pd.DataFrame()\n",
    "df_price['total mc price'] = df_city['total mc price']\n",
    "df_price.sort_values(by=['total mc price'], inplace=True)\n",
    "df_price.reset_index(drop=True, inplace=True)\n",
    "df_price.reset_index(level=0, inplace=True)\n",
    "df_price"
   ]
  },
  {
   "cell_type": "code",
   "execution_count": null,
   "metadata": {},
   "outputs": [],
   "source": [
    "bins= [*range(10000000, 250000000, 5000000)] \n",
    "df_price['group'] = pd.cut(df_price['total mc price'], bins=bins)"
   ]
  },
  {
   "cell_type": "code",
   "execution_count": null,
   "metadata": {},
   "outputs": [],
   "source": [
    "# df_price['group'].astype(str)"
   ]
  },
  {
   "cell_type": "code",
   "execution_count": null,
   "metadata": {},
   "outputs": [],
   "source": [
    "df1 = df_price.groupby(['group']).count()\n",
    "df1['percent'] = (df1['index'] / df1['index'].sum()) * 100\n",
    "df1['cum_percent'] = (df1['index'].cumsum() / df1['index'].sum()) * 100\n",
    "df1"
   ]
  },
  {
   "cell_type": "code",
   "execution_count": null,
   "metadata": {},
   "outputs": [],
   "source": [
    "fig, ax1 = plt.subplots(figsize=(16,6))\n",
    "ax1 = df1['index'].plot(alpha = .75, kind = 'bar')\n",
    "ax2 = ax1.twinx()\n",
    "ax2.plot(ax1.get_xticks(), df1['cum_percent'].values, alpha = .75, color = 'r')\n",
    "ax2.grid(False)\n",
    "plt.axhline(80, 0,100,color = 'r')\n",
    "plt.show()\n",
    "plt.savefig('price.png')"
   ]
  },
  {
   "cell_type": "code",
   "execution_count": null,
   "metadata": {},
   "outputs": [],
   "source": [
    "mc_sales = pd.read_csv('raw_data_added_info/mc_sales.csv')\n",
    "mc_sales"
   ]
  },
  {
   "cell_type": "code",
   "execution_count": null,
   "metadata": {},
   "outputs": [],
   "source": [
    "mc_sales.columns"
   ]
  },
  {
   "cell_type": "code",
   "execution_count": null,
   "metadata": {},
   "outputs": [],
   "source": [
    "mc_sales.category2.unique()"
   ]
  },
  {
   "cell_type": "code",
   "execution_count": null,
   "metadata": {},
   "outputs": [],
   "source": [
    "mc_city = mc_sales.loc[((mc_sales['category2'] == 'HONDA MC')|(mc_sales['category2'] == 'CITY')) & (mc_sales['choice'] == 1)\\\n",
    "                      & (mc_sales['flag_year'] == 1)]\n",
    "\n",
    "mc_fillted = mc_sales.loc[(mc_sales['choice'] == 1)\\\n",
    "                      & (mc_sales['flag_year'] == 1)]\n"
   ]
  },
  {
   "cell_type": "code",
   "execution_count": null,
   "metadata": {},
   "outputs": [],
   "source": [
    "df_city_mc = pd.DataFrame()\n",
    "df_city_mc['category'] = mc_city['category2']\n",
    "df_city_mc['model'] = mc_city['mc_model_w_year_group']\n",
    "# df_price.sort_values(by=['total mc price'], inplace=True)\n",
    "# df_price.reset_index(drop=True, inplace=True)\n",
    "# df_price.reset_index(level=0, inplace=True)\n",
    "df_standard_model = pd.DataFrame()\n",
    "df_standard_model['category'] = mc_fillted['category2']\n",
    "df_standard_model['Standard_model'] = mc_fillted['Standard Model']\n",
    "\n",
    "df_year_group = pd.DataFrame()\n",
    "df_year_group['category'] = mc_fillted['category2']\n",
    "df_year_group['year_group'] = mc_fillted['year_group']\n",
    "\n",
    "df_top_bot = pd.DataFrame()\n",
    "df_top_bot['category'] = mc_fillted['category2']\n",
    "df_top_bot['model'] = mc_fillted['mc_model_w_year_group']"
   ]
  },
  {
   "cell_type": "code",
   "execution_count": null,
   "metadata": {},
   "outputs": [],
   "source": [
    "# fig, ax1 = plt.subplots(figsize=(16,6))\n",
    "df1 = df_city_mc.groupby(['category', 'model']).size().unstack()\n",
    "df2 = df1.T.dropna()\n",
    "\n",
    "df3 = df_standard_model.groupby(['category', 'Standard_model']).size().unstack()\n",
    "df4 = df3.T.dropna()\n",
    "\n",
    "df5 = df_year_group.groupby(['category', 'year_group']).size().unstack()\n",
    "df6 = df5.T.dropna()\n",
    "\n",
    "df7 = df_top_bot.groupby(['category', 'model']).size().unstack()\n",
    "df8 = df7.T.dropna()\n",
    "# ax2 = ax1.twinx()\n",
    "# ax2.plot(ax1.get_xticks(), df1['cum_percent'].values, alpha = .75, color = 'r')\n",
    "# ax2.grid(False)\n",
    "# plt.axhline(80, 0,100,color = 'r')\n",
    "# plt.show()\n",
    "# df_city_mc.groupby(['category', 'model']).size().unstack().plot.barh(stacked=True)"
   ]
  },
  {
   "cell_type": "code",
   "execution_count": null,
   "metadata": {},
   "outputs": [],
   "source": [
    "df2['CITY'] = (df2['CITY'] / df2['CITY'].sum()) * 100\n",
    "df2['HONDA MC'] = (df2['HONDA MC'] / df2['HONDA MC'].sum()) * 100\n",
    "\n",
    "\n",
    "df4['HONDA MC'] = (df4['HONDA MC'] / df4['HONDA MC'].sum()) * 100\n",
    "df4['CITY'] = (df4['CITY'] / df4['CITY'].sum()) * 100\n",
    "df4['CR-V'] = (df4['CR-V'] / df4['CR-V'].sum()) * 100\n",
    "df4['HONDA AM (OTHERS)'] = (df4['HONDA AM (OTHERS)'] / df4['HONDA AM (OTHERS)'].sum()) * 100\n",
    "\n",
    "\n",
    "df6['HONDA MC'] = (df6['HONDA MC'] / df6['HONDA MC'].sum()) * 100\n",
    "df6['CITY'] = (df6['CITY'] / df6['CITY'].sum()) * 100\n",
    "df6['CR-V'] = (df6['CR-V'] / df6['CR-V'].sum()) * 100\n",
    "df6['HONDA AM (OTHERS)'] = (df6['HONDA AM (OTHERS)'] / df6['HONDA AM (OTHERS)'].sum()) * 100\n",
    "\n",
    "df8['HONDA MC'] = (df8['HONDA MC'] / df8['HONDA MC'].sum()) * 100\n",
    "df8['CITY'] = (df8['CITY'] / df8['CITY'].sum()) * 100\n",
    "df8['CR-V'] = (df8['CR-V'] / df8['CR-V'].sum()) * 100\n",
    "df8['HONDA AM (OTHERS)'] = (df8['HONDA AM (OTHERS)'] / df8['HONDA AM (OTHERS)'].sum()) * 100"
   ]
  },
  {
   "cell_type": "code",
   "execution_count": null,
   "metadata": {},
   "outputs": [],
   "source": [
    "\n",
    "\n",
    "ax=df2.T.plot(kind='barh', stacked=True,colormap=ListedColormap(sns.color_palette('Paired',63)),figsize=(18,8))\n",
    "plt.legend(bbox_to_anchor=(0.6,-0.2), loc='upper center',ncol=7)\n",
    "plt.tight_layout()\n",
    "sns.set_style(\"figsizetegrid\")\n",
    "\n",
    "# Show graphic\n",
    "# plt.show()\n",
    "ax.figure.savefig('mc_city.png')"
   ]
  },
  {
   "cell_type": "code",
   "execution_count": null,
   "metadata": {},
   "outputs": [],
   "source": [
    "ax1= df4.T.plot(kind='barh', stacked=True,colormap=ListedColormap(sns.color_palette('Paired',63)),figsize=(18,8))\n",
    "plt.legend(bbox_to_anchor=(0.6,-0.2), loc='upper center',ncol=7)\n",
    "plt.tight_layout()\n",
    "sns.set_style(\"whitegrid\")\n",
    "\n",
    "\n",
    "# Show graphic\n",
    "plt.show()\n",
    "ax1.figure.savefig('standard_model.png')"
   ]
  },
  {
   "cell_type": "code",
   "execution_count": null,
   "metadata": {},
   "outputs": [],
   "source": [
    "ax2=df6.T.plot(kind='barh', stacked=True,colormap=ListedColormap(sns.color_palette('Paired',63)),figsize=(18,8))\n",
    "plt.legend(bbox_to_anchor=(0.6,-0.2), loc='upper center',ncol=7)\n",
    "plt.tight_layout()\n",
    "sns.set_style(\"whitegrid\")\n",
    "\n",
    "# Show graphic\n",
    "plt.show()\n",
    "ax2.figure.savefig('year_group.png')"
   ]
  },
  {
   "cell_type": "code",
   "execution_count": null,
   "metadata": {},
   "outputs": [],
   "source": [
    "df8"
   ]
  },
  {
   "cell_type": "code",
   "execution_count": null,
   "metadata": {},
   "outputs": [],
   "source": [
    "# df8['dif_mc_city'] = df8['CITY'] - df8['HONDA MC']\n",
    "df8['dif_mc_crv'] = df8['CR-V'] - df8['HONDA MC']"
   ]
  },
  {
   "cell_type": "code",
   "execution_count": null,
   "metadata": {},
   "outputs": [],
   "source": [
    "# df8['dif_mc_city'] = df8['dif_mc_city'].abs()\n",
    "df8['dif_mc_crv'] = df8['dif_mc_crv'].abs()"
   ]
  },
  {
   "cell_type": "code",
   "execution_count": null,
   "metadata": {},
   "outputs": [],
   "source": [
    "# df9=df8.sort_values('dif_mc_city',ascending=False)\n",
    "df10=df8.sort_values('dif_mc_crv',ascending=False)"
   ]
  },
  {
   "cell_type": "code",
   "execution_count": null,
   "metadata": {},
   "outputs": [],
   "source": [
    "ax3=df9.T.plot(kind='barh', stacked=True,colormap=ListedColormap(sns.color_palette('Paired',63)),figsize=(18,8))\n",
    "plt.legend(bbox_to_anchor=(0.6,-0.2), loc='upper center',ncol=7)\n",
    "plt.tight_layout()\n",
    "sns.set_style(\"whitegrid\")\n",
    "\n",
    "# Show graphic\n",
    "plt.show()\n",
    "ax3.figure.savefig('diff_mc_city.png')"
   ]
  },
  {
   "cell_type": "code",
   "execution_count": null,
   "metadata": {},
   "outputs": [],
   "source": [
    "ax4=df10.T.plot(kind='barh', stacked=True,colormap=ListedColormap(sns.color_palette('Paired',63)),figsize=(18,8))\n",
    "plt.legend(bbox_to_anchor=(0.6,-0.2), loc='upper center',ncol=7)\n",
    "plt.tight_layout()\n",
    "sns.set_style(\"whitegrid\")\n",
    "\n",
    "# Show graphic\n",
    "plt.show()\n",
    "ax4.figure.savefig('diff_mc_crv.png')"
   ]
  },
  {
   "cell_type": "code",
   "execution_count": null,
   "metadata": {},
   "outputs": [],
   "source": []
  }
 ],
 "metadata": {
  "kernelspec": {
   "display_name": "Python 3",
   "language": "python",
   "name": "python3"
  },
  "language_info": {
   "codemirror_mode": {
    "name": "ipython",
    "version": 3
   },
   "file_extension": ".py",
   "mimetype": "text/x-python",
   "name": "python",
   "nbconvert_exporter": "python",
   "pygments_lexer": "ipython3",
   "version": "3.8.3"
  }
 },
 "nbformat": 4,
 "nbformat_minor": 4
}
